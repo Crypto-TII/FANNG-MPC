{
 "cells": [
  {
   "cell_type": "markdown",
   "id": "c51451fa-373a-4862-a32a-788a0286f516",
   "metadata": {},
   "source": [
    "# Imports"
   ]
  },
  {
   "cell_type": "code",
   "execution_count": 1,
   "id": "c8b91a95-88b4-4d84-8647-a1b3c0e8f89a",
   "metadata": {},
   "outputs": [],
   "source": [
    "import torch\n",
    "import torch.nn as nn\n",
    "import matplotlib\n",
    "import matplotlib.pyplot as plt\n",
    "import os\n",
    "import numpy as np\n",
    "%matplotlib inline"
   ]
  },
  {
   "cell_type": "markdown",
   "id": "4cd10d18-a24a-40ce-b5e2-0668b5bc9bc2",
   "metadata": {},
   "source": [
    "# CNN architecture"
   ]
  },
  {
   "cell_type": "code",
   "execution_count": 2,
   "id": "9f3b93d4-a94b-4e6b-a77a-a5076d281d6c",
   "metadata": {},
   "outputs": [],
   "source": [
    "class Cifar10CnnModel(nn.Module):\n",
    "    def __init__(self):\n",
    "        super().__init__()\n",
    "        self.network = nn.Sequential(\n",
    "            \n",
    "            # Conv-1\n",
    "            nn.Conv2d(3, 32, kernel_size=3, padding=1),\n",
    "            nn.BatchNorm2d(32),\n",
    "            nn.ReLU(),\n",
    "            nn.Dropout(0.25),\n",
    "            \n",
    "            # Conv-2\n",
    "            nn.Conv2d(32, 64, kernel_size=3, stride=1, padding=1),\n",
    "            nn.BatchNorm2d(64),\n",
    "            nn.ReLU(),\n",
    "            nn.AvgPool2d(2, 2), # output: 64 x 16 x 16\n",
    "            \n",
    "            # Conv-3\n",
    "            nn.Conv2d(64, 128, kernel_size=3, stride=1, padding=1),\n",
    "            nn.BatchNorm2d(128),\n",
    "            nn.ReLU(),\n",
    "            nn.Dropout(0.25),\n",
    "\n",
    "            # Conv-4\n",
    "            nn.Conv2d(128, 128, kernel_size=3, stride=1, padding=1),\n",
    "            nn.BatchNorm2d(128),\n",
    "            nn.ReLU(),\n",
    "            nn.AvgPool2d(2, 2), # output: 128 x 8 x 8\n",
    "\n",
    "            # Conv-5\n",
    "            nn.Conv2d(128, 256, kernel_size=3, stride=1, padding=1),\n",
    "            nn.BatchNorm2d(256),\n",
    "            nn.ReLU(),\n",
    "            nn.Dropout(0.25),            \n",
    "            \n",
    "            # Conv-6\n",
    "            nn.Conv2d(256, 256, kernel_size=3, stride=1, padding=1),\n",
    "            nn.BatchNorm2d(256),           \n",
    "            nn.ReLU(),\n",
    "            nn.AvgPool2d(2, 2), # output: 256 x 4 x 4\n",
    "\n",
    "            nn.Flatten(), \n",
    "            nn.Linear(256*4*4, 32),\n",
    "            nn.Dropout(0.25),            \n",
    "            nn.ReLU(),\n",
    "            nn.Linear(32, 10))\n",
    "        \n",
    "    def forward(self, xb):\n",
    "        return self.network(xb)"
   ]
  },
  {
   "cell_type": "markdown",
   "id": "766548f4-6224-4549-b462-ca660039b488",
   "metadata": {},
   "source": [
    "# Loading the saved model"
   ]
  },
  {
   "cell_type": "code",
   "execution_count": 3,
   "id": "953d5d72-939d-45e8-8a13-2ff49de8ddb4",
   "metadata": {},
   "outputs": [
    {
     "data": {
      "text/plain": [
       "Cifar10CnnModel(\n",
       "  (network): Sequential(\n",
       "    (0): Conv2d(3, 32, kernel_size=(3, 3), stride=(1, 1), padding=(1, 1))\n",
       "    (1): BatchNorm2d(32, eps=1e-05, momentum=0.1, affine=True, track_running_stats=True)\n",
       "    (2): ReLU()\n",
       "    (3): Dropout(p=0.25, inplace=False)\n",
       "    (4): Conv2d(32, 64, kernel_size=(3, 3), stride=(1, 1), padding=(1, 1))\n",
       "    (5): BatchNorm2d(64, eps=1e-05, momentum=0.1, affine=True, track_running_stats=True)\n",
       "    (6): ReLU()\n",
       "    (7): AvgPool2d(kernel_size=2, stride=2, padding=0)\n",
       "    (8): Conv2d(64, 128, kernel_size=(3, 3), stride=(1, 1), padding=(1, 1))\n",
       "    (9): BatchNorm2d(128, eps=1e-05, momentum=0.1, affine=True, track_running_stats=True)\n",
       "    (10): ReLU()\n",
       "    (11): Dropout(p=0.25, inplace=False)\n",
       "    (12): Conv2d(128, 128, kernel_size=(3, 3), stride=(1, 1), padding=(1, 1))\n",
       "    (13): BatchNorm2d(128, eps=1e-05, momentum=0.1, affine=True, track_running_stats=True)\n",
       "    (14): ReLU()\n",
       "    (15): AvgPool2d(kernel_size=2, stride=2, padding=0)\n",
       "    (16): Conv2d(128, 256, kernel_size=(3, 3), stride=(1, 1), padding=(1, 1))\n",
       "    (17): BatchNorm2d(256, eps=1e-05, momentum=0.1, affine=True, track_running_stats=True)\n",
       "    (18): ReLU()\n",
       "    (19): Dropout(p=0.25, inplace=False)\n",
       "    (20): Conv2d(256, 256, kernel_size=(3, 3), stride=(1, 1), padding=(1, 1))\n",
       "    (21): BatchNorm2d(256, eps=1e-05, momentum=0.1, affine=True, track_running_stats=True)\n",
       "    (22): ReLU()\n",
       "    (23): AvgPool2d(kernel_size=2, stride=2, padding=0)\n",
       "    (24): Flatten(start_dim=1, end_dim=-1)\n",
       "    (25): Linear(in_features=4096, out_features=32, bias=True)\n",
       "    (26): Dropout(p=0.25, inplace=False)\n",
       "    (27): ReLU()\n",
       "    (28): Linear(in_features=32, out_features=10, bias=True)\n",
       "  )\n",
       ")"
      ]
     },
     "execution_count": 3,
     "metadata": {},
     "output_type": "execute_result"
    }
   ],
   "source": [
    "saved_model = Cifar10CnnModel()\n",
    "saved_model.load_state_dict(torch.load('../saved_model/cifar10-cnn_with_bn_and_avg_pool.pth', map_location=torch.device('cpu')))\n",
    "saved_model.eval()"
   ]
  },
  {
   "cell_type": "markdown",
   "id": "8ff8fe92-bb8a-40ce-94ce-52f671409692",
   "metadata": {},
   "source": [
    "# Performing prediction"
   ]
  },
  {
   "cell_type": "markdown",
   "id": "bd61636c-28ff-4ea3-a746-5a05d898ac6e",
   "metadata": {},
   "source": [
    "### Loading image for prediction"
   ]
  },
  {
   "cell_type": "code",
   "execution_count": 4,
   "id": "df341863-3c6e-43f7-8388-9f2458b4e1fe",
   "metadata": {},
   "outputs": [],
   "source": [
    "input_image = torch.load(\"./test_images/image_1.pt\")"
   ]
  },
  {
   "cell_type": "code",
   "execution_count": 5,
   "id": "c08faffa-cb0c-4920-b0b8-a1d46e0a7f14",
   "metadata": {},
   "outputs": [
    {
     "data": {
      "text/plain": [
       "tensor([[[0.7922, 0.7922, 0.8000,  ..., 0.8118, 0.8039, 0.7961],\n",
       "         [0.8078, 0.8078, 0.8118,  ..., 0.8235, 0.8157, 0.8078],\n",
       "         [0.8235, 0.8275, 0.8314,  ..., 0.8392, 0.8314, 0.8235],\n",
       "         ...,\n",
       "         [0.8549, 0.8235, 0.7608,  ..., 0.9529, 0.9569, 0.9529],\n",
       "         [0.8588, 0.8510, 0.8471,  ..., 0.9451, 0.9451, 0.9451],\n",
       "         [0.8510, 0.8471, 0.8510,  ..., 0.9373, 0.9373, 0.9412]],\n",
       "\n",
       "        [[0.8000, 0.8000, 0.8078,  ..., 0.8157, 0.8078, 0.8000],\n",
       "         [0.8157, 0.8157, 0.8196,  ..., 0.8275, 0.8196, 0.8118],\n",
       "         [0.8314, 0.8353, 0.8392,  ..., 0.8392, 0.8353, 0.8275],\n",
       "         ...,\n",
       "         [0.8510, 0.8196, 0.7608,  ..., 0.9490, 0.9490, 0.9529],\n",
       "         [0.8549, 0.8471, 0.8471,  ..., 0.9412, 0.9412, 0.9412],\n",
       "         [0.8471, 0.8431, 0.8471,  ..., 0.9333, 0.9333, 0.9333]],\n",
       "\n",
       "        [[0.7804, 0.7804, 0.7882,  ..., 0.7843, 0.7804, 0.7765],\n",
       "         [0.7961, 0.7961, 0.8000,  ..., 0.8039, 0.7961, 0.7882],\n",
       "         [0.8118, 0.8157, 0.8235,  ..., 0.8235, 0.8157, 0.8078],\n",
       "         ...,\n",
       "         [0.8706, 0.8392, 0.7765,  ..., 0.9686, 0.9686, 0.9686],\n",
       "         [0.8745, 0.8667, 0.8627,  ..., 0.9608, 0.9608, 0.9608],\n",
       "         [0.8667, 0.8627, 0.8667,  ..., 0.9529, 0.9529, 0.9529]]])"
      ]
     },
     "execution_count": 5,
     "metadata": {},
     "output_type": "execute_result"
    }
   ],
   "source": [
    "input_image"
   ]
  },
  {
   "cell_type": "markdown",
   "id": "42227fef-0a65-4ee5-9cc0-1a4d28475adf",
   "metadata": {},
   "source": [
    "### Function to diaplay image"
   ]
  },
  {
   "cell_type": "code",
   "execution_count": 6,
   "id": "4e9ac139-2a03-4f6b-8db8-cf103615454c",
   "metadata": {},
   "outputs": [],
   "source": [
    "matplotlib.rcParams['figure.facecolor'] = '#ffffff'\n",
    "\n",
    "def display_image(img):\n",
    "    # print('Label: ', dataset.classes[label], \"(\"+str(label)+\")\")\n",
    "    plt.imshow(img.permute(1, 2, 0))"
   ]
  },
  {
   "cell_type": "code",
   "execution_count": 7,
   "id": "e89bd5a5-ce17-4c71-9c0f-3b27fa27f21f",
   "metadata": {},
   "outputs": [
    {
     "data": {
      "image/png": "[encoded data removed]",
      "text/plain": [
       "<Figure size 432x288 with 1 Axes>"
      ]
     },
     "metadata": {},
     "output_type": "display_data"
    }
   ],
   "source": [
    "display_image(input_image)"
   ]
  },
  {
   "cell_type": "markdown",
   "id": "baaa1add-8939-4672-b334-b702943dd757",
   "metadata": {},
   "source": [
    "### Making the image fit for prediction"
   ]
  },
  {
   "cell_type": "code",
   "execution_count": 8,
   "id": "4b1d8479-98cf-4050-8146-56a6413a60c8",
   "metadata": {},
   "outputs": [],
   "source": [
    "resized_input_image = input_image[None,:,:,:]"
   ]
  },
  {
   "cell_type": "code",
   "execution_count": 9,
   "id": "8e738518-5b08-44c3-963e-3cb1891ca646",
   "metadata": {},
   "outputs": [
    {
     "data": {
      "text/plain": [
       "torch.Size([1, 3, 32, 32])"
      ]
     },
     "execution_count": 9,
     "metadata": {},
     "output_type": "execute_result"
    }
   ],
   "source": [
    "resized_input_image.shape"
   ]
  },
  {
   "cell_type": "markdown",
   "id": "0bcf1168-9b01-4ad7-9ee5-2c4035707bad",
   "metadata": {},
   "source": [
    "### Performing prediction"
   ]
  },
  {
   "cell_type": "code",
   "execution_count": 10,
   "id": "cc83194d-5803-4b7a-931a-af6331d1ceb3",
   "metadata": {},
   "outputs": [],
   "source": [
    "output = saved_model(resized_input_image)"
   ]
  },
  {
   "cell_type": "code",
   "execution_count": 11,
   "id": "281adf59-6d81-47c3-bab7-37e6a958ee6d",
   "metadata": {},
   "outputs": [
    {
     "data": {
      "text/plain": [
       "tensor([[  5.9999, -13.6704,  -7.8744, -19.9206, -11.0847, -40.7090, -30.9490,\n",
       "         -27.8359,  -7.4508,  -9.0774]], grad_fn=<AddmmBackward0>)"
      ]
     },
     "execution_count": 11,
     "metadata": {},
     "output_type": "execute_result"
    }
   ],
   "source": [
    "output"
   ]
  },
  {
   "cell_type": "code",
   "execution_count": 12,
   "id": "34f753c9-8891-4087-b711-3a50cfda291d",
   "metadata": {},
   "outputs": [
    {
     "data": {
      "text/plain": [
       "tensor(5.9999, grad_fn=<MaxBackward1>)"
      ]
     },
     "execution_count": 12,
     "metadata": {},
     "output_type": "execute_result"
    }
   ],
   "source": [
    "torch.max(output)"
   ]
  },
  {
   "cell_type": "code",
   "execution_count": 13,
   "id": "0e46e43d-70b4-4546-afd7-2cac149f3e55",
   "metadata": {},
   "outputs": [],
   "source": [
    "output_list = output.tolist()"
   ]
  },
  {
   "cell_type": "code",
   "execution_count": 14,
   "id": "5d42c65e-d108-4ab9-b662-efa8e9bd31b0",
   "metadata": {},
   "outputs": [],
   "source": [
    "prediction_index = output_list[0].index(max(output_list[0]))"
   ]
  },
  {
   "cell_type": "markdown",
   "id": "80ad02cd-a8c4-4935-8bfe-58ffb42ac903",
   "metadata": {},
   "source": [
    "### Classes of CIFAR-10"
   ]
  },
  {
   "cell_type": "code",
   "execution_count": 15,
   "id": "0f17e6d9-8fd5-442a-8a7d-bba26d6b8ada",
   "metadata": {},
   "outputs": [],
   "source": [
    "classes = ['airplane', 'automobile', 'bird', 'cat', 'deer', 'dog', 'frog', 'horse', 'ship', 'truck']"
   ]
  },
  {
   "cell_type": "code",
   "execution_count": 16,
   "id": "823d898d-dcab-4af8-bf06-ed72878b3e67",
   "metadata": {},
   "outputs": [
    {
     "name": "stdout",
     "output_type": "stream",
     "text": [
      "The input is an image of airplane\n"
     ]
    }
   ],
   "source": [
    "print(\"The input is an image of\", classes[prediction_index])"
   ]
  },
  {
   "cell_type": "markdown",
   "id": "641fbff5-634b-4425-b869-7e6983a2a295",
   "metadata": {},
   "source": [
    "# Getting the parameters (input and output) of each layer"
   ]
  },
  {
   "cell_type": "code",
   "execution_count": 17,
   "id": "8c3de71e-0da6-48db-87fd-6de5353dab92",
   "metadata": {},
   "outputs": [
    {
     "data": {
      "text/plain": [
       "tensor([[  5.9999, -13.6704,  -7.8744, -19.9206, -11.0847, -40.7090, -30.9490,\n",
       "         -27.8359,  -7.4508,  -9.0774]], grad_fn=<AddmmBackward0>)"
      ]
     },
     "execution_count": 17,
     "metadata": {},
     "output_type": "execute_result"
    }
   ],
   "source": [
    "# Define a dictionary to store the outputs of each layer\n",
    "outputs = {}\n",
    "\n",
    "conv = []\n",
    "\n",
    "batch_norm = []\n",
    "\n",
    "relu = []\n",
    "\n",
    "pool = []\n",
    "\n",
    "flatten = []\n",
    "\n",
    "linear = []\n",
    "\n",
    "# Register a hook for each layer in the model\n",
    "def hook(module, input, output):\n",
    "    module_str = str(module)\n",
    "    outputs[module_str] = output\n",
    "        \n",
    "    if module_str[0] == 'C':\n",
    "        conv.append(\"################## LAYER ##################\")\n",
    "        conv.append(output)\n",
    "    elif module_str[0] == 'B':\n",
    "        batch_norm.append(\"################## LAYER ##################\")\n",
    "        batch_norm.append(output)\n",
    "    elif module_str[0] == 'A':\n",
    "        pool.append(\"################## LAYER ##################\")\n",
    "        pool.append(output)\n",
    "    elif module_str[0] == 'R':\n",
    "        relu.append(\"################## LAYER ##################\")\n",
    "        relu.append(output)\n",
    "    elif module_str[0] == 'F':\n",
    "        flatten.append(\"################## LAYER ##################\")\n",
    "        flatten.append(output)\n",
    "    elif module_str[0] == 'L':\n",
    "        linear.append(\"################## LAYER ##################\")\n",
    "        linear.append(output)\n",
    "\n",
    "        \n",
    "    \n",
    "for name, module in saved_model.named_modules():\n",
    "    module.register_forward_hook(hook)\n",
    "\n",
    "# Perform inference on an input image\n",
    "saved_model(resized_input_image)\n",
    "\n",
    "# Print the output of each layer\n",
    "# for name, output in outputs.items():\n",
    "#     print(name, output.shape)\n"
   ]
  },
  {
   "cell_type": "markdown",
   "id": "fc6819ef-7460-4da4-b4d9-003c9ff206ed",
   "metadata": {},
   "source": [
    "# Helper functions"
   ]
  },
  {
   "cell_type": "code",
   "execution_count": 18,
   "id": "a581dd3a-38f0-4109-b493-8f864421d66f",
   "metadata": {},
   "outputs": [],
   "source": [
    "def create_if_not_exists(base_path, name_of_folder=None):\n",
    "    path = base_path + \"/\" + name_of_folder + \"/\"\n",
    "    try:\n",
    "        if name_of_folder != None:\n",
    "            os.makedirs(base_path + \"/{}\".format(name_of_folder))\n",
    "        else:\n",
    "            os.makedirs(base_path)\n",
    "    except FileExistsError:\n",
    "        pass\n",
    "    \n",
    "    return path\n",
    "\n",
    "def write_tensor_to_file(tensor, file_path, name_of_file):\n",
    "    text_file = open(file_path + \"/{}\".format(name_of_file), \"w+\")\n",
    "    tensor.data.numpy().tofile(text_file, sep=\" \", format=\"%.8f\")\n",
    "    text_file.close()"
   ]
  },
  {
   "cell_type": "markdown",
   "id": "257a4310-e416-4c3c-8bd4-79f588d01b47",
   "metadata": {},
   "source": [
    "# Saving output to text file"
   ]
  },
  {
   "cell_type": "markdown",
   "id": "acd09582-e1af-4411-9b88-5c93fd694e02",
   "metadata": {},
   "source": [
    "### Location where the parameters need to be stored"
   ]
  },
  {
   "cell_type": "code",
   "execution_count": 19,
   "id": "60bddd18-68ef-49e2-8b46-66cc5e354bdf",
   "metadata": {},
   "outputs": [],
   "source": [
    "path_where_all_parameters_be_stored = \".\""
   ]
  },
  {
   "cell_type": "markdown",
   "id": "9c019624-8071-43f9-9c8d-85e55c617fb7",
   "metadata": {},
   "source": [
    "## Convolution"
   ]
  },
  {
   "cell_type": "markdown",
   "id": "5af1330e-4590-40f7-8c77-18d9d9f2a698",
   "metadata": {},
   "source": [
    "### Creating a directory to store convolution layer's parameters"
   ]
  },
  {
   "cell_type": "code",
   "execution_count": 20,
   "id": "a2ee9267-d159-41ff-89e5-ae3bd66b0506",
   "metadata": {},
   "outputs": [],
   "source": [
    "conv_path = create_if_not_exists(path_where_all_parameters_be_stored, \"conv\")"
   ]
  },
  {
   "cell_type": "code",
   "execution_count": 21,
   "id": "aa1af6c1-9a21-4b63-aacc-83906c6332da",
   "metadata": {},
   "outputs": [
    {
     "data": {
      "text/plain": [
       "'./conv/'"
      ]
     },
     "execution_count": 21,
     "metadata": {},
     "output_type": "execute_result"
    }
   ],
   "source": [
    "conv_path"
   ]
  },
  {
   "cell_type": "markdown",
   "id": "8beb4d68-78fc-4936-902f-161c7b5be6b3",
   "metadata": {},
   "source": [
    "### Saving convolution layer outputs"
   ]
  },
  {
   "cell_type": "code",
   "execution_count": 22,
   "id": "406892b0",
   "metadata": {},
   "outputs": [],
   "source": [
    "# Deleting last layer of conv as it is saved in linear layer\n",
    "for i in range(0,2):\n",
    "    conv.pop()"
   ]
  },
  {
   "cell_type": "code",
   "execution_count": 23,
   "id": "528725ab-b29d-485a-9922-a69c9b79aedd",
   "metadata": {},
   "outputs": [],
   "source": [
    "layer = 1\n",
    "for i in range(0,len(conv)):\n",
    "    if type(conv[i]) != str:\n",
    "        conv_tensor = conv[i]\n",
    "        write_tensor_to_file(conv_tensor, conv_path, \"conv_layer_{}.txt\".format(layer))\n",
    "        layer += 1"
   ]
  },
  {
   "cell_type": "markdown",
   "id": "0561c23f-e364-446d-955b-81945e847db9",
   "metadata": {},
   "source": [
    "## Average pooling"
   ]
  },
  {
   "cell_type": "markdown",
   "id": "b363874b-2447-424e-9568-3c6134166958",
   "metadata": {},
   "source": [
    "### Creating a directory to store average pooling layer's parameters"
   ]
  },
  {
   "cell_type": "code",
   "execution_count": 24,
   "id": "919bdae2-be5f-48f3-b015-02cdc092f795",
   "metadata": {},
   "outputs": [],
   "source": [
    "avg_pool_path = create_if_not_exists(path_where_all_parameters_be_stored, \"avg_pool\")"
   ]
  },
  {
   "cell_type": "code",
   "execution_count": 25,
   "id": "b9d430ef-c441-4c1b-a5ea-7b4bc0e76f66",
   "metadata": {},
   "outputs": [
    {
     "data": {
      "text/plain": [
       "'./avg_pool/'"
      ]
     },
     "execution_count": 25,
     "metadata": {},
     "output_type": "execute_result"
    }
   ],
   "source": [
    "avg_pool_path"
   ]
  },
  {
   "cell_type": "markdown",
   "id": "0fd763a9-98d1-4809-976b-bbd1cfb8dac7",
   "metadata": {},
   "source": [
    "### Saving average pooling layers"
   ]
  },
  {
   "cell_type": "code",
   "execution_count": 26,
   "id": "4a72eb7b-71a0-4f2e-8d3f-79fcc6bb45a5",
   "metadata": {},
   "outputs": [],
   "source": [
    "layer = 1\n",
    "for i in range(0,len(pool)):\n",
    "    if type(pool[i]) != str:\n",
    "        pool_tensor = pool[i]\n",
    "        write_tensor_to_file(pool_tensor, avg_pool_path, \"avg_pool_layer_{}.txt\".format(layer))\n",
    "        layer += 1"
   ]
  },
  {
   "cell_type": "markdown",
   "id": "ef7003b0-be1d-4578-84c5-122a429f2e30",
   "metadata": {},
   "source": [
    "## Batch normalization"
   ]
  },
  {
   "cell_type": "markdown",
   "id": "83e4678b-8a11-4e96-a816-e98d7f22ee77",
   "metadata": {},
   "source": [
    "### Creating a directory to store batch normalization layer's parameters"
   ]
  },
  {
   "cell_type": "code",
   "execution_count": 27,
   "id": "4d482871-0d12-44ec-bd4a-078a4f080624",
   "metadata": {},
   "outputs": [],
   "source": [
    "batch_norm_path = create_if_not_exists(path_where_all_parameters_be_stored, \"batch_norm\")"
   ]
  },
  {
   "cell_type": "code",
   "execution_count": 28,
   "id": "92b403a9-6b2b-4bd0-adbd-72c127815fe4",
   "metadata": {},
   "outputs": [
    {
     "data": {
      "text/plain": [
       "'./batch_norm/'"
      ]
     },
     "execution_count": 28,
     "metadata": {},
     "output_type": "execute_result"
    }
   ],
   "source": [
    "batch_norm_path"
   ]
  },
  {
   "cell_type": "markdown",
   "id": "e0ba0e63-dbe0-482d-81f4-eba42108a6fd",
   "metadata": {},
   "source": [
    "### Saving batch_normalization layers"
   ]
  },
  {
   "cell_type": "code",
   "execution_count": 29,
   "id": "e9ce659f-afaf-45ce-8919-169889a2eb41",
   "metadata": {},
   "outputs": [],
   "source": [
    "layer = 1\n",
    "for i in range(0,len(batch_norm)):\n",
    "    if type(batch_norm[i]) != str:\n",
    "        batch_norm_tensor = batch_norm[i]\n",
    "        write_tensor_to_file(batch_norm_tensor, batch_norm_path, \"batch_norm_layer_{}.txt\".format(layer))\n",
    "        layer += 1"
   ]
  },
  {
   "cell_type": "markdown",
   "id": "f2f8ec33-6a86-4dff-b6fe-6a3a00a8de64",
   "metadata": {},
   "source": [
    "## Flatten"
   ]
  },
  {
   "cell_type": "markdown",
   "id": "aaec556b-f62a-4c5e-8b01-67ede32fb75f",
   "metadata": {},
   "source": [
    "### Creating a directory to store flatten layer's parameters"
   ]
  },
  {
   "cell_type": "code",
   "execution_count": 30,
   "id": "31448ec5-6348-4c06-9965-364286a7ab96",
   "metadata": {},
   "outputs": [],
   "source": [
    "flatten_path = create_if_not_exists(path_where_all_parameters_be_stored, \"flatten\")"
   ]
  },
  {
   "cell_type": "code",
   "execution_count": 31,
   "id": "346bc849-7d55-4ef4-9a7a-17b1f62059ea",
   "metadata": {},
   "outputs": [
    {
     "data": {
      "text/plain": [
       "'./flatten/'"
      ]
     },
     "execution_count": 31,
     "metadata": {},
     "output_type": "execute_result"
    }
   ],
   "source": [
    "flatten_path"
   ]
  },
  {
   "cell_type": "markdown",
   "id": "a234897b-0348-4a90-aa01-4c5bdede6431",
   "metadata": {},
   "source": [
    "### Saving flatten layers"
   ]
  },
  {
   "cell_type": "code",
   "execution_count": 32,
   "id": "fe0bc412-513b-47d2-9c39-988260ff1c4b",
   "metadata": {},
   "outputs": [],
   "source": [
    "layer = 1\n",
    "for i in range(0,len(flatten)):\n",
    "    if type(flatten[i]) != str:\n",
    "        flatten_tensor = flatten[i]\n",
    "        write_tensor_to_file(flatten_tensor, flatten_path, \"flatten_layer_{}.txt\".format(layer))\n",
    "        layer += 1"
   ]
  },
  {
   "cell_type": "markdown",
   "id": "07d1af19-b0a6-4340-b8df-3fe3ed581a3f",
   "metadata": {},
   "source": [
    "## ReLU"
   ]
  },
  {
   "cell_type": "markdown",
   "id": "89ce382b-d4fb-49db-8f76-a21121716d93",
   "metadata": {},
   "source": [
    "### Creating a directory to store ReLU layer's parameters"
   ]
  },
  {
   "cell_type": "code",
   "execution_count": 33,
   "id": "1e300f32-db57-44de-a0c8-f4a1a8e9fd11",
   "metadata": {},
   "outputs": [],
   "source": [
    "relu_path = create_if_not_exists(path_where_all_parameters_be_stored, \"relu\")"
   ]
  },
  {
   "cell_type": "code",
   "execution_count": 34,
   "id": "87ce11b0-f193-4460-af29-019a58287200",
   "metadata": {},
   "outputs": [
    {
     "data": {
      "text/plain": [
       "'./relu/'"
      ]
     },
     "execution_count": 34,
     "metadata": {},
     "output_type": "execute_result"
    }
   ],
   "source": [
    "relu_path"
   ]
  },
  {
   "cell_type": "markdown",
   "id": "b58e8ce4-dc8a-4743-b365-6cb9943ec277",
   "metadata": {},
   "source": [
    "### Saving ReLU layers"
   ]
  },
  {
   "cell_type": "code",
   "execution_count": 35,
   "id": "362d3e88-443a-4572-9bde-f7b32a68e69d",
   "metadata": {},
   "outputs": [],
   "source": [
    "layer = 1\n",
    "for i in range(0,len(relu)):\n",
    "    if type(relu[i]) != str:\n",
    "        relu_tensor = relu[i]\n",
    "        write_tensor_to_file(relu_tensor, relu_path, \"relu_layer_{}.txt\".format(layer))\n",
    "        layer += 1"
   ]
  },
  {
   "cell_type": "markdown",
   "id": "ee9e2353-d40f-4eb6-9f04-ddaa8d7cc797",
   "metadata": {},
   "source": [
    "## Linear"
   ]
  },
  {
   "cell_type": "markdown",
   "id": "25fc7dc3-802d-4934-a85f-6a8a91340d54",
   "metadata": {},
   "source": [
    "### Creating a directory to store linear layer's parameters"
   ]
  },
  {
   "cell_type": "code",
   "execution_count": 36,
   "id": "2981bd1f-bf47-4f68-8d28-80909bd3c67b",
   "metadata": {},
   "outputs": [],
   "source": [
    "linear_path = create_if_not_exists(path_where_all_parameters_be_stored, \"linear\")"
   ]
  },
  {
   "cell_type": "code",
   "execution_count": 37,
   "id": "a7293b06-459f-4b56-880f-427d024ecde5",
   "metadata": {},
   "outputs": [
    {
     "data": {
      "text/plain": [
       "'./linear/'"
      ]
     },
     "execution_count": 37,
     "metadata": {},
     "output_type": "execute_result"
    }
   ],
   "source": [
    "linear_path"
   ]
  },
  {
   "cell_type": "markdown",
   "id": "851fc2fd-3104-41e8-847a-dab41a12b450",
   "metadata": {},
   "source": [
    "### Saving linear layers"
   ]
  },
  {
   "cell_type": "code",
   "execution_count": 38,
   "id": "0bedbb8f-a6b8-4900-a577-2c5337865335",
   "metadata": {},
   "outputs": [],
   "source": [
    "layer = 1\n",
    "for i in range(0,len(linear)):\n",
    "    if type(linear[i]) != str:\n",
    "        linear_tensor = linear[i]\n",
    "        write_tensor_to_file(linear_tensor, linear_path, \"linear_layer_{}.txt\".format(layer))\n",
    "        layer += 1"
   ]
  }
 ],
 "metadata": {
  "kernelspec": {
   "display_name": "Python 3 (ipykernel)",
   "language": "python",
   "name": "python3"
  },
  "language_info": {
   "codemirror_mode": {
    "name": "ipython",
    "version": 3
   },
   "file_extension": ".py",
   "mimetype": "text/x-python",
   "name": "python",
   "nbconvert_exporter": "python",
   "pygments_lexer": "ipython3",
   "version": "3.8.10"
  }
 },
 "nbformat": 4,
 "nbformat_minor": 5
}
