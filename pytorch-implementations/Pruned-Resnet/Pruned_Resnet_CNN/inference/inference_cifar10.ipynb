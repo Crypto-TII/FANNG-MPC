{
 "cells": [
  {
   "cell_type": "markdown",
   "id": "eadcf2a5-0301-4753-accd-78a06abf0291",
   "metadata": {},
   "source": [
    "# Imports"
   ]
  },
  {
   "cell_type": "code",
   "execution_count": 1,
   "id": "c7da9381-6beb-4187-a0fb-43f2903632eb",
   "metadata": {},
   "outputs": [],
   "source": [
    "import os\n",
    "import torch\n",
    "import torchvision\n",
    "import tarfile\n",
    "import torch.nn as nn\n",
    "import torch.nn.functional as F\n",
    "from torchvision.datasets.utils import download_url\n",
    "from torch.utils.data import random_split\n",
    "from torchvision.datasets import ImageFolder\n",
    "from torchvision.transforms import ToTensor\n",
    "import matplotlib\n",
    "import matplotlib.pyplot as plt\n",
    "%matplotlib inline"
   ]
  },
  {
   "cell_type": "markdown",
   "id": "72810868-3754-42c8-9815-26e7bad32b84",
   "metadata": {},
   "source": [
    "# Function to display image"
   ]
  },
  {
   "cell_type": "code",
   "execution_count": 2,
   "id": "7fb11b25-e4ae-4cf3-b379-e0ef00a8479c",
   "metadata": {},
   "outputs": [],
   "source": [
    "matplotlib.rcParams['figure.facecolor'] = '#ffffff'\n",
    "\n",
    "def display_image(img):\n",
    "    # print('Label: ', dataset.classes[label], \"(\"+str(label)+\")\")\n",
    "    plt.imshow(img.permute(1, 2, 0))"
   ]
  },
  {
   "cell_type": "markdown",
   "id": "cba8e4e6-e55a-4eb3-a934-13d45800eb7b",
   "metadata": {},
   "source": [
    "# CNN architecture"
   ]
  },
  {
   "cell_type": "code",
   "execution_count": 3,
   "id": "13ba8675-9f67-44ac-83cf-bae11e51a8b0",
   "metadata": {},
   "outputs": [],
   "source": [
    "class Cifar10CnnModel(nn.Module):\n",
    "    def __init__(self):\n",
    "        super().__init__()\n",
    "        self.network = nn.Sequential(\n",
    "            \n",
    "            # Conv-1\n",
    "            nn.Conv2d(3, 32, kernel_size=3, padding=1),\n",
    "            nn.BatchNorm2d(32),\n",
    "            nn.ReLU(),\n",
    "            nn.Dropout(0.25),\n",
    "            \n",
    "            # Conv-2\n",
    "            nn.Conv2d(32, 64, kernel_size=3, stride=1, padding=1),\n",
    "            nn.BatchNorm2d(64),\n",
    "            nn.ReLU(),\n",
    "            nn.AvgPool2d(2, 2), # output: 64 x 16 x 16\n",
    "            \n",
    "            # Conv-3\n",
    "            nn.Conv2d(64, 128, kernel_size=3, stride=1, padding=1),\n",
    "            nn.BatchNorm2d(128),\n",
    "            nn.ReLU(),\n",
    "            nn.Dropout(0.25),\n",
    "\n",
    "            # Conv-4\n",
    "            nn.Conv2d(128, 128, kernel_size=3, stride=1, padding=1),\n",
    "            nn.BatchNorm2d(128),\n",
    "            nn.ReLU(),\n",
    "            nn.AvgPool2d(2, 2), # output: 128 x 8 x 8\n",
    "\n",
    "            # Conv-5\n",
    "            nn.Conv2d(128, 256, kernel_size=3, stride=1, padding=1),\n",
    "            nn.BatchNorm2d(256),\n",
    "            nn.ReLU(),\n",
    "            nn.Dropout(0.25),            \n",
    "            \n",
    "            # Conv-6\n",
    "            nn.Conv2d(256, 256, kernel_size=3, stride=1, padding=1),\n",
    "            nn.BatchNorm2d(256),           \n",
    "            nn.ReLU(),\n",
    "            nn.AvgPool2d(2, 2), # output: 256 x 4 x 4\n",
    "\n",
    "            nn.Flatten(), \n",
    "            nn.Linear(256*4*4, 32),\n",
    "            nn.Dropout(0.25),            \n",
    "            nn.ReLU(),\n",
    "            nn.Linear(32, 10))\n",
    "        \n",
    "    def forward(self, xb):\n",
    "        return self.network(xb)"
   ]
  },
  {
   "cell_type": "markdown",
   "id": "d96d4238-cc72-417d-8adc-6129b1fd6af6",
   "metadata": {},
   "source": [
    "# Loading saved model"
   ]
  },
  {
   "cell_type": "code",
   "execution_count": 4,
   "id": "d13b7c2a-343a-4fb5-9a9e-9fb182057c03",
   "metadata": {},
   "outputs": [
    {
     "data": {
      "text/plain": "Cifar10CnnModel(\n  (network): Sequential(\n    (0): Conv2d(3, 32, kernel_size=(3, 3), stride=(1, 1), padding=(1, 1))\n    (1): BatchNorm2d(32, eps=1e-05, momentum=0.1, affine=True, track_running_stats=True)\n    (2): ReLU()\n    (3): Dropout(p=0.25, inplace=False)\n    (4): Conv2d(32, 64, kernel_size=(3, 3), stride=(1, 1), padding=(1, 1))\n    (5): BatchNorm2d(64, eps=1e-05, momentum=0.1, affine=True, track_running_stats=True)\n    (6): ReLU()\n    (7): AvgPool2d(kernel_size=2, stride=2, padding=0)\n    (8): Conv2d(64, 128, kernel_size=(3, 3), stride=(1, 1), padding=(1, 1))\n    (9): BatchNorm2d(128, eps=1e-05, momentum=0.1, affine=True, track_running_stats=True)\n    (10): ReLU()\n    (11): Dropout(p=0.25, inplace=False)\n    (12): Conv2d(128, 128, kernel_size=(3, 3), stride=(1, 1), padding=(1, 1))\n    (13): BatchNorm2d(128, eps=1e-05, momentum=0.1, affine=True, track_running_stats=True)\n    (14): ReLU()\n    (15): AvgPool2d(kernel_size=2, stride=2, padding=0)\n    (16): Conv2d(128, 256, kernel_size=(3, 3), stride=(1, 1), padding=(1, 1))\n    (17): BatchNorm2d(256, eps=1e-05, momentum=0.1, affine=True, track_running_stats=True)\n    (18): ReLU()\n    (19): Dropout(p=0.25, inplace=False)\n    (20): Conv2d(256, 256, kernel_size=(3, 3), stride=(1, 1), padding=(1, 1))\n    (21): BatchNorm2d(256, eps=1e-05, momentum=0.1, affine=True, track_running_stats=True)\n    (22): ReLU()\n    (23): AvgPool2d(kernel_size=2, stride=2, padding=0)\n    (24): Flatten(start_dim=1, end_dim=-1)\n    (25): Linear(in_features=4096, out_features=32, bias=True)\n    (26): Dropout(p=0.25, inplace=False)\n    (27): ReLU()\n    (28): Linear(in_features=32, out_features=10, bias=True)\n  )\n)"
     },
     "execution_count": 4,
     "metadata": {},
     "output_type": "execute_result"
    }
   ],
   "source": [
    "saved_model = Cifar10CnnModel()\n",
    "saved_model.load_state_dict(torch.load('../saved_model/cifar10-cnn_with_bn_and_avg_pool.pth'))\n",
    "saved_model.eval()"
   ]
  },
  {
   "cell_type": "markdown",
   "id": "1ca3f619-bdc5-4453-af98-cd995048f281",
   "metadata": {},
   "source": [
    "# Classes of CIFAR-10 dataset"
   ]
  },
  {
   "cell_type": "code",
   "execution_count": 5,
   "id": "f53313ac-0aff-4f1d-ab0a-21cc1385ad3d",
   "metadata": {},
   "outputs": [],
   "source": [
    "classes = ['airplane', 'automobile', 'bird', 'cat', 'deer', 'dog', 'frog', 'horse', 'ship', 'truck']"
   ]
  },
  {
   "cell_type": "markdown",
   "id": "b8ed8644-b0c3-4b05-9bff-ebc7b90dfdda",
   "metadata": {},
   "source": [
    "# Loading 3 test images"
   ]
  },
  {
   "cell_type": "code",
   "execution_count": 6,
   "id": "84f60f94-1267-45bb-87f0-4d1f0526753e",
   "metadata": {},
   "outputs": [],
   "source": [
    "image_1 = torch.load(\"./test_images/image_1.pt\")\n",
    "image_2 = torch.load(\"./test_images/image_2.pt\")\n",
    "image_3 = torch.load(\"./test_images/image_3.pt\")"
   ]
  },
  {
   "cell_type": "markdown",
   "id": "f6a77a2f-e9a1-4cc6-a665-6639f929589f",
   "metadata": {},
   "source": [
    "# Displaying images"
   ]
  },
  {
   "cell_type": "code",
   "execution_count": 7,
   "id": "1dee31a6-51c1-4512-a3ec-954648377753",
   "metadata": {},
   "outputs": [
    {
     "data": {
      "text/plain": "<Figure size 640x480 with 1 Axes>",
      "image/png": "[encoded data removed]"
     },
     "metadata": {},
     "output_type": "display_data"
    }
   ],
   "source": [
    "display_image(image_1)"
   ]
  },
  {
   "cell_type": "code",
   "execution_count": 8,
   "id": "4a31f1d6-ac73-406d-a5cd-bc2dd13f3c0c",
   "metadata": {},
   "outputs": [
    {
     "data": {
      "text/plain": "<Figure size 640x480 with 1 Axes>",
      "image/png": "[encoded data removed]"
     },
     "metadata": {},
     "output_type": "display_data"
    }
   ],
   "source": [
    "display_image(image_2)"
   ]
  },
  {
   "cell_type": "code",
   "execution_count": 9,
   "id": "a6163313-8981-473a-8a8e-490ec85e0b4d",
   "metadata": {},
   "outputs": [
    {
     "data": {
      "text/plain": "<Figure size 640x480 with 1 Axes>",
      "image/png": "[encoded data removed]"
     },
     "metadata": {},
     "output_type": "display_data"
    }
   ],
   "source": [
    "display_image(image_3)"
   ]
  },
  {
   "cell_type": "markdown",
   "id": "cc1f762c-3d5d-43e5-8d6d-a7b789adaa1e",
   "metadata": {},
   "source": [
    "# Performing prediction"
   ]
  },
  {
   "cell_type": "code",
   "execution_count": 10,
   "id": "82cb3a4a-8aed-4700-9916-c4673c3ee9e6",
   "metadata": {},
   "outputs": [
    {
     "name": "stdout",
     "output_type": "stream",
     "text": [
      "The prediction is:  airplane\n",
      "The prediction is:  automobile\n",
      "The prediction is:  horse\n"
     ]
    }
   ],
   "source": [
    "image_list = [image_1, image_2, image_3]\n",
    "\n",
    "for image in image_list:\n",
    "    # Resizing the image for performing prediction using the saved model\n",
    "    resized_image = image[None,:,:,:]\n",
    "\n",
    "    # Performing prediction\n",
    "    output = saved_model(resized_image)\n",
    "\n",
    "    # Getting the label\n",
    "    outout_list = output[0].tolist()\n",
    "    max_ = max(outout_list)\n",
    "    class_ = outout_list.index(max_)\n",
    "\n",
    "    print(\"The prediction is: \", classes[class_])\n"
   ]
  }
 ],
 "metadata": {
  "kernelspec": {
   "display_name": "Python 3 (ipykernel)",
   "language": "python",
   "name": "python3"
  },
  "language_info": {
   "codemirror_mode": {
    "name": "ipython",
    "version": 3
   },
   "file_extension": ".py",
   "mimetype": "text/x-python",
   "name": "python",
   "nbconvert_exporter": "python",
   "pygments_lexer": "ipython3",
   "version": "3.8.10"
  }
 },
 "nbformat": 4,
 "nbformat_minor": 5
}
